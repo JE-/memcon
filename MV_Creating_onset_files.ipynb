{
 "cells": [
  {
   "cell_type": "code",
   "execution_count": null,
   "metadata": {},
   "outputs": [],
   "source": [
    "# %load /Users/Jonathan/.je.py\n",
    "import numpy as np\n",
    "import pandas as pd\n",
    "import matplotlib.pyplot as plt\n",
    "import seaborn as sns\n",
    "import os, re, glob\n",
    "from os.path import join\n",
    "%matplotlib inline\n",
    "plt.rcParams['savefig.dpi'] = 2 * plt.rcParams['savefig.dpi']\n",
    "plt.rcParams['figure.figsize'] = 12,6\n",
    "import scipy\n",
    "import sys\n",
    "pd.set_option('display.max_columns',1000)\n",
    "pd.set_option('display.max_rows',5000)"
   ]
  },
  {
   "cell_type": "code",
   "execution_count": null,
   "metadata": {},
   "outputs": [],
   "source": [
    "SUBJECT = 'PT12'\n",
    "SUBJECT_PATH = '/Users/Jonathan/OurLab/memcon/masonville_wheelchair/PT12/task/data/'\n",
    "ONSETS_PATH = '/Users/Jonathan/OurLab/memcon/masonville_wheelchair/onsets/'"
   ]
  },
  {
   "cell_type": "code",
   "execution_count": null,
   "metadata": {},
   "outputs": [],
   "source": [
    "os.chdir(SUBJECT_PATH)\n",
    "log_files = [f for f in os.listdir(os.getcwd()) if f.endswith('log') and f.startswith('P')]\n",
    "log_files"
   ]
  },
  {
   "cell_type": "code",
   "execution_count": null,
   "metadata": {},
   "outputs": [],
   "source": [
    "for run in range(1,7):\n",
    "    df = pd.DataFrame()\n",
    "    with open(log_files[run-1]) as f:\n",
    "        for line in f:\n",
    "            if 'movie1: movie' in line:\n",
    "                df = df.append([line.split('\\t')],ignore_index=True)\n",
    "    df[3] = df[2].apply(lambda x: [re.findall(r'((P|other|book).*(.mp4|.mov))',x)][0][0][0])\n",
    "    df = df[[0,3]]\n",
    "    start = float(df[0][0])\n",
    "    # initialize onset times\n",
    "    df[0] = df[0].apply(lambda x: float(x) - start)\n",
    "    df.columns = ['onset','file']\n",
    "    # convert file to condition\n",
    "    df['condition'] = df['file'].apply(lambda x: 'own' if 'P' in x else ('other' if 'other' in x else 'bookstore'))\n",
    "    df['file'] = 30\n",
    "    df.columns = ['onset','duration','condition']\n",
    "    df.to_csv(ONSETS_PATH +SUBJECT +'_run' +str(run) +'_videos.txt',sep=' ',index=False,header=False)"
   ]
  },
  {
   "cell_type": "code",
   "execution_count": null,
   "metadata": {},
   "outputs": [],
   "source": []
  }
 ],
 "metadata": {
  "anaconda-cloud": {},
  "kernelspec": {
   "display_name": "Python [conda root]",
   "language": "python",
   "name": "conda-root-py"
  },
  "language_info": {
   "codemirror_mode": {
    "name": "ipython",
    "version": 2
   },
   "file_extension": ".py",
   "mimetype": "text/x-python",
   "name": "python",
   "nbconvert_exporter": "python",
   "pygments_lexer": "ipython2",
   "version": "2.7.12"
  }
 },
 "nbformat": 4,
 "nbformat_minor": 1
}
