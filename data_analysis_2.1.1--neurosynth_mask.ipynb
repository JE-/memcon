{
 "cells": [
  {
   "cell_type": "code",
   "execution_count": 1,
   "metadata": {},
   "outputs": [
    {
     "name": "stderr",
     "output_type": "stream",
     "text": [
      "/home/jerez/anaconda2/lib/python2.7/site-packages/matplotlib/__init__.py:1405: UserWarning: \n",
      "This call to matplotlib.use() has no effect because the backend has already\n",
      "been chosen; matplotlib.use() must be called *before* pylab, matplotlib.pyplot,\n",
      "or matplotlib.backends is imported for the first time.\n",
      "\n",
      "  warnings.warn(_use_error_msg)\n",
      "/home/jerez/anaconda2/lib/python2.7/site-packages/sklearn/cross_validation.py:41: DeprecationWarning: This module was deprecated in version 0.18 in favor of the model_selection module into which all the refactored classes and functions are moved. Also note that the interface of the new CV iterators are different from that of this module. This module will be removed in 0.20.\n",
      "  \"This module will be removed in 0.20.\", DeprecationWarning)\n"
     ]
    }
   ],
   "source": [
    "# %load /Users/Jonathan/.je.py\n",
    "import numpy as np\n",
    "import pandas as pd\n",
    "import matplotlib.pyplot as plt\n",
    "import seaborn as sns\n",
    "%matplotlib inline\n",
    "import glob\n",
    "from os.path import join, isfile\n",
    "# -------------------------------------------------------------------------------------\n",
    "from nilearn import plotting, image;\n",
    "from nilearn.masking import compute_epi_mask\n",
    "import nibabel as nib\n",
    "from nilearn.input_data import NiftiMasker\n",
    "import time\n",
    "# -------------------------------------------------------------------------------------\n",
    "from sklearn.pipeline import Pipeline\n",
    "from sklearn.svm import SVC\n",
    "from sklearn.cross_validation import LeaveOneLabelOut, cross_val_score\n",
    "from sklearn.feature_selection import SelectPercentile, f_classif\n",
    "from sklearn.externals import joblib\n",
    "# -------------------------------------------------------------------------------------\n",
    "plt.rcParams['figure.figsize'] = 12,6"
   ]
  },
  {
   "cell_type": "code",
   "execution_count": 2,
   "metadata": {
    "collapsed": true
   },
   "outputs": [],
   "source": [
    "# SUBJECTS = ['S12']\n",
    "SUBJECTS = ['S01','S02','S03','S04','S05','S06','S07','S08','S09','S10','S11','S12']\n",
    "RUNS = range(1,7)\n",
    "PATH = '/imaging/ourlab/jerez/memcon/'\n",
    "PERCENTILE = 5\n",
    "CV = 5"
   ]
  },
  {
   "cell_type": "code",
   "execution_count": 3,
   "metadata": {
    "collapsed": true
   },
   "outputs": [],
   "source": [
    "from helper_functions import apply_niftiMasker, load_scanning_session_matrix, get_onsets\n",
    "from classification import compute_classification"
   ]
  },
  {
   "cell_type": "code",
   "execution_count": 4,
   "metadata": {},
   "outputs": [
    {
     "data": {
      "text/html": [
       "<style>.container { width:100% !important; }</style>"
      ],
      "text/plain": [
       "<IPython.core.display.HTML object>"
      ]
     },
     "metadata": {},
     "output_type": "display_data"
    }
   ],
   "source": [
    "from IPython.core.display import display, HTML\n",
    "display(HTML(\"<style>.container { width:100% !important; }</style>\"))"
   ]
  },
  {
   "cell_type": "code",
   "execution_count": 5,
   "metadata": {
    "collapsed": true
   },
   "outputs": [],
   "source": [
    "def apply_niftiMasker_autoBioMask(subject,runs,masker):\n",
    "    \"\"\"Compute a time-series matrix for an entire scanning session.\n",
    "\n",
    "    Args:\n",
    "        subject: subject number (i.e. 'S01')\n",
    "        runs: list of runs\n",
    "\n",
    "    Returns:\n",
    "        None\n",
    "    \"\"\"\n",
    "\n",
    "    for run in runs:\n",
    "        \n",
    "        print run\n",
    "        func = join(PATH,'output_firstSteps','smoothed','run' +str(run) +'_' +subject,'swa' +subject +'_' +'run' +str(run) +'.nii')\n",
    "        ONSETS = 'onsets/' +subject +'_run' +str(run) +'_videos.txt'\n",
    "\n",
    "        print func\n",
    "        \n",
    "        start = time.time()\n",
    "        X = masker.fit_transform(func)\n",
    "        end = time.time()\n",
    "        print 'time = ' +str((end-start))\n",
    "\n",
    "        print X.shape # (total TRs x number of voxels per volume)\n",
    "        #plotting.plot_roi(epi_masker.mask_img_,image.mean_img(func), title='EPI automatic mask')\n",
    "\n",
    "        # get onsets\n",
    "        df = pd.read_csv(join(PATH,ONSETS),sep='\\s',header=None)\n",
    "        df.columns = ['onset','duration','category'] # df.shape is (16 x 3)\n",
    "\n",
    "        x = np.ndarray(shape=(df.shape[0],X.shape[1]))\n",
    "        x.shape # (16 x number of voxels per volume)\n",
    "\n",
    "        for onset in range(df.shape[0]):\n",
    "            i = df.onset[onset]\n",
    "            print i,i+30\n",
    "            x[onset,:] = X[int(i):int(i+30)].mean(axis=0)\n",
    "\n",
    "        if run == 1:\n",
    "            Z_GM = x\n",
    "        else:\n",
    "            Z_GM = np.concatenate((Z_GM,x))\n",
    "        print Z_GM.shape\n",
    "        np.save(join(PATH,'data/Z_files',subject +'_Z_autoBioMask.npy'),Z_GM)"
   ]
  },
  {
   "cell_type": "markdown",
   "metadata": {},
   "source": [
    "### Classify using all runs, within, featureSelection, +shuffled"
   ]
  },
  {
   "cell_type": "markdown",
   "metadata": {},
   "source": [
    "### Using autobiographical mask from neurosynth"
   ]
  },
  {
   "cell_type": "code",
   "execution_count": 6,
   "metadata": {
    "collapsed": true
   },
   "outputs": [],
   "source": [
    "mask_neurosynth = nib.load('../autobiographical memory_association-test_z_FDR_0.01.nii.gz')\n",
    "# plt.plot(mask_neurosynth.get_data().ravel())"
   ]
  },
  {
   "cell_type": "code",
   "execution_count": 7,
   "metadata": {
    "collapsed": true
   },
   "outputs": [],
   "source": [
    "def binarize_neurosynth_mask(neurosynth_mask):\n",
    "    mask = nib.load(neurosynth_mask)\n",
    "    data = mask.get_data()\n",
    "    data[(data > 0)] = 1\n",
    "    binary_mask = nib.Nifti1Image(data, mask.affine, mask.header)\n",
    "    return binary_mask"
   ]
  },
  {
   "cell_type": "code",
   "execution_count": 8,
   "metadata": {
    "collapsed": true
   },
   "outputs": [],
   "source": [
    "mask_autobiographicalMemory = binarize_neurosynth_mask('../autobiographical memory_association-test_z_FDR_0.01.nii.gz')"
   ]
  },
  {
   "cell_type": "code",
   "execution_count": 9,
   "metadata": {
    "scrolled": true
   },
   "outputs": [
    {
     "data": {
      "image/png": "[encoded data removed]",
      "text/plain": [
       "<matplotlib.figure.Figure at 0x7f77183943d0>"
      ]
     },
     "metadata": {},
     "output_type": "display_data"
    }
   ],
   "source": [
    "# load mask : Autobiographical\n",
    "plotting.plot_roi(mask_autobiographicalMemory)\n",
    "masker_autoBio = NiftiMasker(mask_img = mask_autobiographicalMemory, standardize=True, memory=\"nilearn_cache\", memory_level=1)"
   ]
  },
  {
   "cell_type": "code",
   "execution_count": 10,
   "metadata": {
    "collapsed": true
   },
   "outputs": [],
   "source": [
    "def load_scanning_session_matrix_autoBioMask(subject):\n",
    "    \"\"\" Load a scanning session's time-series matrix\n",
    "\n",
    "    Args:\n",
    "        subject: subject number (i.e. 'S01')\n",
    "\n",
    "    Returns:\n",
    "        a subject's scanning session time-series matrix\n",
    "    \"\"\"\n",
    "    Z_GM = np.load(join(PATH,'data/Z_files',subject + '_Z_autoBioMask.npy'))\n",
    "    print Z_GM.shape\n",
    "    return Z_GM"
   ]
  },
  {
   "cell_type": "markdown",
   "metadata": {},
   "source": [
    "### Leave one subject out cross validation"
   ]
  },
  {
   "cell_type": "code",
   "execution_count": 11,
   "metadata": {
    "collapsed": true
   },
   "outputs": [],
   "source": [
    "from sklearn.metrics import accuracy_score\n",
    "df = pd.DataFrame(columns=['Subject','classification_accuracy','classification_accuracy_reshuffled'])\n",
    "SUBJECTS = ['S01','S02','S03','S04','S05','S06','S07','S08','S09','S10','S11','S12']\n",
    "\n",
    "svc = SVC(kernel='linear')\n",
    "feature_selection = SelectPercentile(f_classif, percentile=PERCENTILE)\n",
    "anova_svc = Pipeline([('anova', feature_selection), ('svc', svc)])"
   ]
  },
  {
   "cell_type": "markdown",
   "metadata": {},
   "source": [
    "##### Construct one large matrix [96 movies * 12 subjects,brain_voxels]"
   ]
  },
  {
   "cell_type": "code",
   "execution_count": null,
   "metadata": {
    "scrolled": true
   },
   "outputs": [],
   "source": [
    "df_multi_subject = pd.DataFrame() # a multi-subject dataframe of [subject_number,onsets,brain_voxels]\n",
    "for i,s in enumerate(SUBJECTS):\n",
    "    if s == 'S11':\n",
    "        RUNS = range(1,6)\n",
    "    else:\n",
    "        RUNS = range(1,7)\n",
    "    print s,\n",
    "    if not isfile(join(PATH,'data/Z_files',s + '_Z_autoBioMask.npy')):\n",
    "        apply_niftiMasker_autoBioMask(s,RUNS,masker_autoBio)\n",
    "        \n",
    "    single_subject_Z = load_scanning_session_matrix_autoBioMask(s)\n",
    "    single_subject_onsets = get_onsets(s,RUNS)\n",
    "    \n",
    "    df_single_subject = pd.concat([pd.Series([s] * single_subject_onsets.shape[0]),single_subject_onsets['category'],pd.DataFrame(single_subject_Z)],axis = 1)\n",
    "    df_multi_subject = pd.concat([df_multi_subject,df_single_subject],axis = 0)"
   ]
  },
  {
   "cell_type": "code",
   "execution_count": 13,
   "metadata": {},
   "outputs": [
    {
     "data": {
      "text/plain": [
       "(96, 13235)"
      ]
     },
     "execution_count": 13,
     "metadata": {},
     "output_type": "execute_result"
    }
   ],
   "source": [
    "single_subject_Z.shape"
   ]
  },
  {
   "cell_type": "code",
   "execution_count": 14,
   "metadata": {},
   "outputs": [
    {
     "data": {
      "text/plain": [
       "(1135, 13237)"
      ]
     },
     "execution_count": 14,
     "metadata": {},
     "output_type": "execute_result"
    }
   ],
   "source": [
    "df_multi_subject.shape"
   ]
  },
  {
   "cell_type": "code",
   "execution_count": 15,
   "metadata": {
    "collapsed": true
   },
   "outputs": [],
   "source": [
    "df_multi_subject.columns = ['subject'] +df_multi_subject.columns[1:].tolist()"
   ]
  },
  {
   "cell_type": "code",
   "execution_count": null,
   "metadata": {},
   "outputs": [],
   "source": [
    "from sklearn.model_selection import LeaveOneGroupOut\n",
    "from sklearn.externals import joblib\n",
    "from sklearn.utils import shuffle\n",
    "\n",
    "np.random.seed(11)\n",
    "\n",
    "classification_results = pd.DataFrame(columns=['Subject','classification_accuracy','classification_accuracy_reshuffled'])\n",
    "X = df_multi_subject\n",
    "y = df_multi_subject['category']\n",
    "logo = LeaveOneGroupOut()\n",
    "for i, (train_index, test_index) in enumerate(logo.split(X,y,df_multi_subject['subject'])):\n",
    "    #print train_index, test_index\n",
    "    X_train = df_multi_subject.iloc[train_index,2:]\n",
    "    y_train = df_multi_subject.iloc[train_index,1]\n",
    "    y_train_reshuffled = shuffle(df_multi_subject.iloc[train_index,1])\n",
    "    print X_train.shape\n",
    "    print y_train.shape\n",
    "    X_test = df_multi_subject.iloc[test_index,2:]\n",
    "    y_test = df_multi_subject.iloc[test_index,1]\n",
    "    \n",
    "    anova_svc.fit(X_train,y_train)\n",
    "    predictions = anova_svc.predict(X_test)\n",
    "    classification_accuracy = accuracy_score(y_test,predictions)\n",
    "    \n",
    "    anova_svc_reshuffle = Pipeline([('anova', feature_selection), ('svc', svc)])\n",
    "    anova_svc_reshuffle.fit(X_train,y_train_reshuffled)\n",
    "    predictions_reshuffled = anova_svc_reshuffle.predict(X_test)\n",
    "    classification_accuracy_reshuffled = accuracy_score(y_test,predictions_reshuffled)\n",
    "    \n",
    "    print classification_accuracy\n",
    "    classification_results.loc[i] = [SUBJECTS[i],classification_accuracy,classification_accuracy_reshuffled]\n",
    "    #joblib.dump(anova_svc,'models/' +classification_results['Subject'][i] +'_featSelec.pkl')\n",
    "classification_results"
   ]
  },
  {
   "cell_type": "code",
   "execution_count": 17,
   "metadata": {},
   "outputs": [
    {
     "name": "stdout",
     "output_type": "stream",
     "text": [
      "Ttest_relResult(statistic=6.8246840424451065, pvalue=2.8584960323908213e-05)\n"
     ]
    },
    {
     "data": {
      "image/png": "[encoded data removed]",
      "text/plain": [
       "<matplotlib.figure.Figure at 0x7f7718394310>"
      ]
     },
     "metadata": {},
     "output_type": "display_data"
    }
   ],
   "source": [
    "from helper_functions import plot_classification_accuracies\n",
    "plot_classification_accuracies(classification_results)"
   ]
  },
  {
   "cell_type": "code",
   "execution_count": null,
   "metadata": {
    "collapsed": true
   },
   "outputs": [],
   "source": []
  }
 ],
 "metadata": {
  "anaconda-cloud": {},
  "kernelspec": {
   "display_name": "Python [default]",
   "language": "python",
   "name": "python2"
  },
  "language_info": {
   "codemirror_mode": {
    "name": "ipython",
    "version": 2
   },
   "file_extension": ".py",
   "mimetype": "text/x-python",
   "name": "python",
   "nbconvert_exporter": "python",
   "pygments_lexer": "ipython2",
   "version": "2.7.12"
  }
 },
 "nbformat": 4,
 "nbformat_minor": 2
}
