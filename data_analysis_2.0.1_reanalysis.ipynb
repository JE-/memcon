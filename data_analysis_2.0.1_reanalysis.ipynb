{
 "cells": [
  {
   "cell_type": "code",
   "execution_count": 1,
   "metadata": {},
   "outputs": [
    {
     "name": "stderr",
     "output_type": "stream",
     "text": [
      "/home/jerez/anaconda2/lib/python2.7/site-packages/matplotlib/__init__.py:1405: UserWarning: \n",
      "This call to matplotlib.use() has no effect because the backend has already\n",
      "been chosen; matplotlib.use() must be called *before* pylab, matplotlib.pyplot,\n",
      "or matplotlib.backends is imported for the first time.\n",
      "\n",
      "  warnings.warn(_use_error_msg)\n",
      "/home/jerez/anaconda2/lib/python2.7/site-packages/sklearn/cross_validation.py:41: DeprecationWarning: This module was deprecated in version 0.18 in favor of the model_selection module into which all the refactored classes and functions are moved. Also note that the interface of the new CV iterators are different from that of this module. This module will be removed in 0.20.\n",
      "  \"This module will be removed in 0.20.\", DeprecationWarning)\n"
     ]
    }
   ],
   "source": [
    "# %load /Users/Jonathan/.je.py\n",
    "import numpy as np\n",
    "import pandas as pd\n",
    "import matplotlib.pyplot as plt\n",
    "import seaborn as sns\n",
    "%matplotlib inline\n",
    "import glob\n",
    "from os.path import join, isfile\n",
    "# -------------------------------------------------------------------------------------\n",
    "from nilearn import plotting, image;\n",
    "from nilearn.masking import compute_epi_mask\n",
    "import nibabel as nib\n",
    "from nilearn.input_data import NiftiMasker\n",
    "import time\n",
    "# -------------------------------------------------------------------------------------\n",
    "from sklearn.pipeline import Pipeline\n",
    "from sklearn.svm import SVC\n",
    "from sklearn.cross_validation import LeaveOneLabelOut, cross_val_score\n",
    "from sklearn.feature_selection import SelectPercentile, f_classif\n",
    "from sklearn.externals import joblib\n",
    "# -------------------------------------------------------------------------------------\n",
    "plt.rcParams['figure.figsize'] = 12,6"
   ]
  },
  {
   "cell_type": "code",
   "execution_count": 1,
   "metadata": {
    "collapsed": true
   },
   "outputs": [],
   "source": [
    "# SUBJECTS = ['S12']\n",
    "SUBJECTS = ['S01','S02','S03','S04','S05','S06','S07','S08','S09','S10','S11','S12']\n",
    "RUNS = range(1,7)\n",
    "PATH = '/imaging/ourlab/jerez/memcon/'\n",
    "PERCENTILE = 5\n",
    "CV = 5"
   ]
  },
  {
   "cell_type": "code",
   "execution_count": 3,
   "metadata": {
    "collapsed": true
   },
   "outputs": [],
   "source": [
    "from helper_functions import apply_niftiMasker, load_scanning_session_matrix, get_onsets, plot_classification_accuracies\n",
    "from classification import compute_classification"
   ]
  },
  {
   "cell_type": "markdown",
   "metadata": {},
   "source": [
    "### Classification: within, all runs, featureSelection, +shuffled"
   ]
  },
  {
   "cell_type": "code",
   "execution_count": null,
   "metadata": {
    "scrolled": false
   },
   "outputs": [],
   "source": [
    "# Classify using all runs\n",
    "df = pd.DataFrame(columns=['Subject','classification_accuracy','classification_accuracy_reshuffled'])\n",
    "for i,s in enumerate(SUBJECTS):\n",
    "    if s == 'S11':\n",
    "        RUNS = range(1,6)\n",
    "    else:\n",
    "        RUNS = range(1,7)\n",
    "    print s,\n",
    "\n",
    "    Z = load_scanning_session_matrix(s)\n",
    "    df_onsets = get_onsets(s,RUNS)\n",
    "    \n",
    "    (clf,classification_accuracy) = compute_classification(Z,df_onsets,CV,PERCENTILE)\n",
    "    (clf_shuffled,classification_accuracy_shuffled) = compute_classification(Z,df_onsets,CV,PERCENTILE,randomize_labels=True)\n",
    "    df.loc[i] = [s,classification_accuracy,classification_accuracy_shuffled]\n",
    "    #joblib.dump(clf,'models/' +s +'_within_featSelec_GM.pkl')\n",
    "df"
   ]
  },
  {
   "cell_type": "code",
   "execution_count": 5,
   "metadata": {},
   "outputs": [
    {
     "data": {
      "text/plain": [
       "(96, 3)"
      ]
     },
     "execution_count": 5,
     "metadata": {},
     "output_type": "execute_result"
    }
   ],
   "source": [
    "df_onsets.shape"
   ]
  },
  {
   "cell_type": "code",
   "execution_count": 7,
   "metadata": {
    "collapsed": true
   },
   "outputs": [],
   "source": [
    "# import matplotlib.pyplot as plt\n",
    "# import seaborn as sns\n",
    "# sns.set_style(\"whitegrid\")\n",
    "# tips = sns.load_dataset(\"tips\")\n",
    "# ax = sns.swarmplot(x=\"day\", y=\"total_bill\", data=tips)\n",
    "# ax = sns.boxplot(x=\"day\", y=\"total_bill\", data=tips,\n",
    "#         showcaps=False,boxprops={'facecolor':'None'},\n",
    "#         showfliers=False,whiskerprops={'linewidth':0})\n",
    "\n",
    "# plt.show()"
   ]
  },
  {
   "cell_type": "code",
   "execution_count": 7,
   "metadata": {
    "collapsed": true
   },
   "outputs": [],
   "source": [
    "# def plot_classification_accuracies(df):\n",
    "    \n",
    "#     import scipy as sp\n",
    "#     print sp.stats.ttest_rel(df['classification_accuracy'],df['classification_accuracy_reshuffled'])\n",
    "    \n",
    "#     n_subjects = df.shape[0]\n",
    "    \n",
    "#     newdf = pd.concat([pd.Series(['classification_accuracy']*n_subjects),df['classification_accuracy']],axis=1,ignore_index=True)\n",
    "#     q = pd.concat([pd.Series(['classification_accuracy_reshuffled']*n_subjects),df['classification_accuracy_reshuffled']],axis=1,ignore_index=True)\n",
    "#     newdf = newdf.append([q],ignore_index=True)\n",
    "\n",
    "#     newdf.columns = ['temp','accuracy']\n",
    "#     ax1 = sns.swarmplot(x = 'temp',y = 'accuracy',data = newdf,size=8)\n",
    "#     ax2 = sns.boxplot(x = 'temp',y = 'accuracy',data = newdf,\n",
    "#             showcaps=False,boxprops={'facecolor':'None'},\n",
    "#             showfliers=False,whiskerprops={'linewidth':0})\n",
    "#     ax1.set_xlabel('')\n",
    "#     ax1.tick_params(axis='both', labelsize=14)\n",
    "#     ax1.set_ylabel('Accuracy',fontsize=14)"
   ]
  },
  {
   "cell_type": "code",
   "execution_count": 8,
   "metadata": {},
   "outputs": [
    {
     "name": "stdout",
     "output_type": "stream",
     "text": [
      "Ttest_relResult(statistic=8.4224728345003061, pvalue=3.9913795737566824e-06)\n"
     ]
    },
    {
     "data": {
      "image/png": "[encoded data removed]",
      "text/plain": [
       "<matplotlib.figure.Figure at 0x7fe5e5f80950>"
      ]
     },
     "metadata": {},
     "output_type": "display_data"
    }
   ],
   "source": [
    "plot_classification_accuracies(df)"
   ]
  },
  {
   "cell_type": "code",
   "execution_count": null,
   "metadata": {
    "collapsed": true
   },
   "outputs": [],
   "source": []
  }
 ],
 "metadata": {
  "anaconda-cloud": {},
  "kernelspec": {
   "display_name": "Python [default]",
   "language": "python",
   "name": "python2"
  },
  "language_info": {
   "codemirror_mode": {
    "name": "ipython",
    "version": 2
   },
   "file_extension": ".py",
   "mimetype": "text/x-python",
   "name": "python",
   "nbconvert_exporter": "python",
   "pygments_lexer": "ipython2",
   "version": "2.7.12"
  }
 },
 "nbformat": 4,
 "nbformat_minor": 2
}
