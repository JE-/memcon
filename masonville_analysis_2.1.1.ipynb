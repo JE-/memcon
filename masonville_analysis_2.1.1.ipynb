{
 "cells": [
  {
   "cell_type": "code",
   "execution_count": null,
   "metadata": {},
   "outputs": [],
   "source": [
    "# %load /Users/Jonathan/.je.py\n",
    "import numpy as np\n",
    "import pandas as pd\n",
    "import matplotlib.pyplot as plt\n",
    "import seaborn as sns\n",
    "%matplotlib inline\n",
    "import glob\n",
    "from os.path import join, isfile\n",
    "# -------------------------------------------------------------------------------------\n",
    "from nilearn import plotting, image;\n",
    "from nilearn.masking import compute_epi_mask\n",
    "import nibabel as nib\n",
    "from nilearn.input_data import NiftiMasker\n",
    "import time\n",
    "# -------------------------------------------------------------------------------------\n",
    "from sklearn.pipeline import Pipeline\n",
    "from sklearn.svm import SVC\n",
    "from sklearn.cross_validation import LeaveOneLabelOut, cross_val_score\n",
    "from sklearn.feature_selection import SelectPercentile, f_classif\n",
    "# -------------------------------------------------------------------------------------\n",
    "plt.rcParams['figure.figsize'] = 12,6"
   ]
  },
  {
   "cell_type": "code",
   "execution_count": null,
   "metadata": {},
   "outputs": [],
   "source": [
    "# SUBJECTS = ['S08']\n",
    "SUBJECTS = ['S01','S02','S03','S04','S05','S06','S07','S08','S09','S10','S11','S12']\n",
    "RUNS = range(1,7)\n",
    "PATH = '/imaging/ourlab/jerez/memcon/'\n",
    "PERCENTILE = 5\n",
    "CV = 5"
   ]
  },
  {
   "cell_type": "code",
   "execution_count": null,
   "metadata": {},
   "outputs": [],
   "source": [
    "from helper_functions import apply_niftiMasker, load_scanning_session_matrix, get_onsets\n",
    "from classification import compute_classification"
   ]
  },
  {
   "cell_type": "code",
   "execution_count": null,
   "metadata": {},
   "outputs": [],
   "source": [
    "from IPython.core.display import display, HTML\n",
    "display(HTML(\"<style>.container { width:100% !important; }</style>\"))"
   ]
  },
  {
   "cell_type": "code",
   "execution_count": null,
   "metadata": {},
   "outputs": [],
   "source": [
    "# compute_mask(SUBJECTS)\n",
    "# masker = compute_mask(SUBJECTS)"
   ]
  },
  {
   "cell_type": "code",
   "execution_count": null,
   "metadata": {},
   "outputs": [],
   "source": [
    "# load mask\n",
    "mask = nib.load('12_subject_mask.nii')\n",
    "plotting.plot_img(mask)\n",
    "masker = NiftiMasker(mask_img = mask, standardize=True, memory=\"nilearn_cache\", memory_level=1)\n",
    "type(masker)"
   ]
  },
  {
   "cell_type": "code",
   "execution_count": null,
   "metadata": {},
   "outputs": [],
   "source": [
    "type(masker)"
   ]
  },
  {
   "cell_type": "markdown",
   "metadata": {},
   "source": [
    "##-------##-------##-------##-------##-------##-------##-------##-------##-------##-------##-------##-------##-------"
   ]
  },
  {
   "cell_type": "markdown",
   "metadata": {},
   "source": [
    "## Leave one subject out cross validation"
   ]
  },
  {
   "cell_type": "code",
   "execution_count": null,
   "metadata": {},
   "outputs": [],
   "source": [
    "from sklearn.metrics import accuracy_score\n",
    "df = pd.DataFrame(columns=['Subject','classification_accuracy','classification_accuracy_reshuffled'])\n",
    "SUBJECTS = ['S01','S02','S03','S04','S05','S06','S07','S08','S09','S10','S11','S12']\n",
    "\n",
    "svc = SVC(kernel='linear')\n",
    "feature_selection = SelectPercentile(f_classif, percentile=PERCENTILE)\n",
    "anova_svc = Pipeline([('anova', feature_selection), ('svc', svc)])"
   ]
  },
  {
   "cell_type": "markdown",
   "metadata": {},
   "source": [
    "##### Construct one large matrix [96 movies * 12 subjects,brain_voxels]"
   ]
  },
  {
   "cell_type": "code",
   "execution_count": null,
   "metadata": {},
   "outputs": [],
   "source": [
    "df_multi_subject = pd.DataFrame() # a multi-subject dataframe of [subject_number,onsets,brain_voxels]\n",
    "for i,s in enumerate(SUBJECTS):\n",
    "    if s == 'S11':\n",
    "        RUNS = range(1,6)\n",
    "    else:\n",
    "        RUNS = range(1,7)\n",
    "    print s,\n",
    "    if not isfile(join(PATH,'data/Z_files',s + '_Z_GM.npy')): # Z file from Group Mask\n",
    "        apply_niftiMasker_GM(s,RUNS,masker)\n",
    "    single_subject_Z = load_scanning_session_matrix(s,GM = True)\n",
    "    single_subject_onsets = get_onsets(s,RUNS)\n",
    "    \n",
    "    df_single_subject = pd.concat([pd.Series([s] * single_subject_onsets.shape[0]),single_subject_onsets['category'],pd.DataFrame(single_subject_Z)],axis = 1)\n",
    "    df_multi_subject = pd.concat([df_multi_subject,df_single_subject],axis = 0)"
   ]
  },
  {
   "cell_type": "code",
   "execution_count": null,
   "metadata": {},
   "outputs": [],
   "source": [
    "single_subject_Z.shape"
   ]
  },
  {
   "cell_type": "code",
   "execution_count": null,
   "metadata": {},
   "outputs": [],
   "source": [
    "df_multi_subject.shape"
   ]
  },
  {
   "cell_type": "code",
   "execution_count": null,
   "metadata": {},
   "outputs": [],
   "source": [
    "df_multi_subject.columns = ['subject'] +df_multi_subject.columns[1:].tolist()"
   ]
  },
  {
   "cell_type": "code",
   "execution_count": null,
   "metadata": {},
   "outputs": [],
   "source": [
    "from sklearn.model_selection import LeaveOneGroupOut\n",
    "from sklearn.externals import joblib\n",
    "from sklearn.utils import shuffle\n",
    "\n",
    "classification_results = pd.DataFrame(columns=['Subject','classification_accuracy','classification_accuracy_reshuffled'])\n",
    "X = df_multi_subject\n",
    "y = df_multi_subject['category']\n",
    "logo = LeaveOneGroupOut()\n",
    "for i, (train_index, test_index) in enumerate(logo.split(X,y,df_multi_subject['subject'])):\n",
    "    #print train_index, test_index\n",
    "    X_train = df_multi_subject.iloc[train_index,2:]\n",
    "    y_train = df_multi_subject.iloc[train_index,1]\n",
    "    y_train_reshuffled = shuffle(df_multi_subject.iloc[train_index,1])\n",
    "    print X_train.shape\n",
    "    print y_train.shape\n",
    "    X_test = df_multi_subject.iloc[test_index,2:]\n",
    "    y_test = df_multi_subject.iloc[test_index,1]\n",
    "    \n",
    "    anova_svc.fit(X_train,y_train)\n",
    "    predictions = anova_svc.predict(X_test)\n",
    "    classification_accuracy = accuracy_score(y_test,predictions)\n",
    "    \n",
    "    anova_svc_reshuffle = Pipeline([('anova', feature_selection), ('svc', svc)])\n",
    "    anova_svc_reshuffle.fit(X_train,y_train_reshuffled)\n",
    "    predictions_reshuffled = anova_svc_reshuffle.predict(X_test)\n",
    "    classification_accuracy_reshuffled = accuracy_score(y_test,predictions_reshuffled)\n",
    "    \n",
    "    print classification_accuracy\n",
    "    classification_results.loc[i] = [SUBJECTS[i],classification_accuracy,classification_accuracy_reshuffled]\n",
    "    #joblib.dump(anova_svc,'models/' +classification_results['Subject'][i] +'_featSelec.pkl')\n",
    "classification_results"
   ]
  },
  {
   "cell_type": "code",
   "execution_count": null,
   "metadata": {},
   "outputs": [],
   "source": [
    "classification_results"
   ]
  },
  {
   "cell_type": "code",
   "execution_count": null,
   "metadata": {},
   "outputs": [],
   "source": [
    "from helper_functions import plot_classification_accuracies\n",
    "plot_classification_accuracies(classification_results)"
   ]
  }
 ],
 "metadata": {
  "anaconda-cloud": {},
  "kernelspec": {
   "display_name": "Python [default]",
   "language": "python",
   "name": "python2"
  },
  "language_info": {
   "codemirror_mode": {
    "name": "ipython",
    "version": 2
   },
   "file_extension": ".py",
   "mimetype": "text/x-python",
   "name": "python",
   "nbconvert_exporter": "python",
   "pygments_lexer": "ipython2",
   "version": "2.7.12"
  }
 },
 "nbformat": 4,
 "nbformat_minor": 2
}
