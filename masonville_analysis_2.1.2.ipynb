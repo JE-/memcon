{
 "cells": [
  {
   "cell_type": "code",
   "execution_count": 1,
   "metadata": {},
   "outputs": [
    {
     "name": "stderr",
     "output_type": "stream",
     "text": [
      "/home/jerez/anaconda2/lib/python2.7/site-packages/sklearn/cross_validation.py:41: DeprecationWarning: This module was deprecated in version 0.18 in favor of the model_selection module into which all the refactored classes and functions are moved. Also note that the interface of the new CV iterators are different from that of this module. This module will be removed in 0.20.\n",
      "  \"This module will be removed in 0.20.\", DeprecationWarning)\n"
     ]
    }
   ],
   "source": [
    "# %load /Users/Jonathan/.je.py\n",
    "import numpy as np\n",
    "import pandas as pd\n",
    "import matplotlib.pyplot as plt\n",
    "import seaborn as sns\n",
    "%matplotlib inline\n",
    "import glob\n",
    "from os.path import join, isfile\n",
    "# -------------------------------------------------------------------------------------\n",
    "from nilearn import plotting, image;\n",
    "from nilearn.masking import compute_epi_mask\n",
    "import nibabel as nib\n",
    "from nilearn.input_data import NiftiMasker\n",
    "import time\n",
    "# -------------------------------------------------------------------------------------\n",
    "from sklearn.pipeline import Pipeline\n",
    "from sklearn.svm import SVC\n",
    "from sklearn.cross_validation import LeaveOneLabelOut, cross_val_score\n",
    "from sklearn.feature_selection import SelectPercentile, f_classif\n",
    "# -------------------------------------------------------------------------------------\n",
    "plt.rcParams['figure.figsize'] = 12,6"
   ]
  },
  {
   "cell_type": "code",
   "execution_count": 1,
   "metadata": {
    "collapsed": true
   },
   "outputs": [],
   "source": [
    "# SUBJECTS = ['S08']\n",
    "SUBJECTS = ['S01','S02','S03','S04','S05','S06','S07','S08','S09','S10','S11','S12']\n",
    "RUNS = range(1,7)\n",
    "PATH = '/imaging/ourlab/jerez/memcon/'\n",
    "PERCENTILE = 5\n",
    "CV = 5"
   ]
  },
  {
   "cell_type": "code",
   "execution_count": 3,
   "metadata": {
    "collapsed": true
   },
   "outputs": [],
   "source": [
    "from helper_functions import apply_niftiMasker, load_scanning_session_matrix, get_onsets\n",
    "from classification import compute_classification"
   ]
  },
  {
   "cell_type": "code",
   "execution_count": 4,
   "metadata": {},
   "outputs": [
    {
     "data": {
      "text/html": [
       "<style>.container { width:100% !important; }</style>"
      ],
      "text/plain": [
       "<IPython.core.display.HTML object>"
      ]
     },
     "metadata": {},
     "output_type": "display_data"
    }
   ],
   "source": [
    "from IPython.core.display import display, HTML\n",
    "display(HTML(\"<style>.container { width:100% !important; }</style>\"))"
   ]
  },
  {
   "cell_type": "code",
   "execution_count": 5,
   "metadata": {
    "collapsed": true
   },
   "outputs": [],
   "source": [
    "# compute_mask(SUBJECTS)\n",
    "# masker = compute_mask(SUBJECTS)"
   ]
  },
  {
   "cell_type": "code",
   "execution_count": 6,
   "metadata": {},
   "outputs": [
    {
     "data": {
      "text/plain": [
       "nilearn.input_data.nifti_masker.NiftiMasker"
      ]
     },
     "execution_count": 6,
     "metadata": {},
     "output_type": "execute_result"
    },
    {
     "data": {
      "image/png": "[encoded data removed]",
      "text/plain": [
       "<matplotlib.figure.Figure at 0x7f864df02310>"
      ]
     },
     "metadata": {},
     "output_type": "display_data"
    }
   ],
   "source": [
    "# load mask\n",
    "mask = nib.load('12_subject_mask.nii')\n",
    "plotting.plot_img(mask)\n",
    "masker = NiftiMasker(mask_img = mask, standardize=True, memory=\"nilearn_cache\", memory_level=1)\n",
    "type(masker)"
   ]
  },
  {
   "cell_type": "code",
   "execution_count": 7,
   "metadata": {},
   "outputs": [
    {
     "data": {
      "text/plain": [
       "nilearn.input_data.nifti_masker.NiftiMasker"
      ]
     },
     "execution_count": 7,
     "metadata": {},
     "output_type": "execute_result"
    }
   ],
   "source": [
    "type(masker)"
   ]
  },
  {
   "cell_type": "code",
   "execution_count": 8,
   "metadata": {
    "collapsed": true
   },
   "outputs": [],
   "source": [
    "RUNS = RUNS[3:]"
   ]
  },
  {
   "cell_type": "markdown",
   "metadata": {
    "collapsed": true
   },
   "source": [
    "##-------##-------##-------##-------##-------##-------##-------##-------##-------##-------##-------##-------##-------"
   ]
  },
  {
   "cell_type": "markdown",
   "metadata": {},
   "source": [
    "## Leave one subject out cross validation"
   ]
  },
  {
   "cell_type": "code",
   "execution_count": 9,
   "metadata": {
    "collapsed": true
   },
   "outputs": [],
   "source": [
    "from sklearn.metrics import accuracy_score\n",
    "df = pd.DataFrame(columns=['Subject','classification_accuracy','classification_accuracy_reshuffled'])\n",
    "SUBJECTS = ['S01','S02','S03','S04','S05','S06','S07','S08','S09','S10','S11','S12']\n",
    "\n",
    "svc = SVC(kernel='linear')\n",
    "feature_selection = SelectPercentile(f_classif, percentile=PERCENTILE)\n",
    "anova_svc = Pipeline([('anova', feature_selection), ('svc', svc)])"
   ]
  },
  {
   "cell_type": "code",
   "execution_count": 10,
   "metadata": {
    "collapsed": true
   },
   "outputs": [
    {
     "name": "stdout",
     "output_type": "stream",
     "text": [
      "S01 (96, 1645399)\n",
      "4 5 6       onset  duration   category\n",
      "0    0.0000        30        own\n",
      "1   34.8847        30      other\n",
      "2   69.9024        30  bookstore\n",
      "3  104.9205        30        own\n",
      "4  139.8885        30      other\n"
     ]
    },
    {
     "name": "stderr",
     "output_type": "stream",
     "text": [
      "helper_functions.py:167: ParserWarning: Falling back to the 'python' engine because the 'c' engine does not support regex separators (separators > 1 char and different from '\\s+' are interpreted as regex); you can avoid this warning by specifying engine='python'.\n",
      "  df = pd.read_csv(join(PATH,onsets),sep='\\s',header=None)\n"
     ]
    },
    {
     "name": "stdout",
     "output_type": "stream",
     "text": [
      "S02 (96, 1645399)\n",
      "4 5 6       onset  duration   category\n",
      "0    0.0000        30  bookstore\n",
      "1   33.8862        30        own\n",
      "2   68.7645        30      other\n",
      "3  103.8759        30        own\n",
      "4  138.7552        30      other\n",
      "S03 (96, 1645399)\n",
      "4 5 6       onset  duration   category\n",
      "0    0.0000        30  bookstore\n",
      "1   33.9732        30        own\n",
      "2   68.8501        30      other\n",
      "3  103.6816        30      other\n",
      "4  138.6321        30        own\n",
      "S04 (95, 1645399)\n",
      "4 5 6       onset  duration   category\n",
      "0    0.0000        30  bookstore\n",
      "1   33.5042        30        own\n",
      "2   68.5139        30      other\n",
      "3  103.5134        30      other\n",
      "4  138.7705        30        own\n",
      "S05 (96, 1645399)\n",
      "4 5 6       onset  duration   category\n",
      "0    0.0000        30  bookstore\n",
      "1   33.6790        30        own\n",
      "2   68.6738        30      other\n",
      "3  103.6817        30  bookstore\n",
      "4  138.6472        30      other\n",
      "S06 (96, 1645399)\n",
      "4 5 6       onset  duration   category\n",
      "0    0.0000        30  bookstore\n",
      "1   33.7079        30      other\n",
      "2   68.7349        30        own\n",
      "3  103.6967        30      other\n",
      "4  138.7079        30        own\n",
      "S07 (96, 1645399)\n",
      "4 5 6       onset  duration   category\n",
      "0    0.0000        30  bookstore\n",
      "1   33.6778        30      other\n",
      "2   68.7333        30        own\n",
      "3  103.6996        30  bookstore\n",
      "4  138.6455        30        own\n",
      "S08 (96, 1645399)\n",
      "4 5 6       onset  duration   category\n",
      "0    0.0000        30      other\n",
      "1   33.6589        30  bookstore\n",
      "2   68.6754        30        own\n",
      "3  103.6748        30      other\n",
      "4  138.6848        30        own\n",
      "S09 (96, 1645399)\n",
      "4 5 6       onset  duration   category\n",
      "0    0.0000        30        own\n",
      "1   33.6559        30  bookstore\n",
      "2   68.6320        30      other\n",
      "3  103.6542        30        own\n",
      "4  138.6381        30      other\n",
      "S10 (96, 1645399)\n",
      "4 5 6       onset  duration   category\n",
      "0    0.0000        30        own\n",
      "1   33.4999        30      other\n",
      "2   68.5111        30  bookstore\n",
      "3  103.3242        30  bookstore\n",
      "4  138.6657        30        own\n",
      "S11 (80, 1645399)\n",
      "4 5       onset  duration   category\n",
      "0    0.0000        30      other\n",
      "1   33.7184        30        own\n",
      "2   68.6810        30  bookstore\n",
      "3  103.6756        30        own\n",
      "4  138.6837        30  bookstore\n",
      "S12 (96, 1645399)\n",
      "4 5 6       onset  duration   category\n",
      "0    0.0000        30        own\n",
      "1   33.7205        30  bookstore\n",
      "2   68.6496        30      other\n",
      "3  103.6603        30  bookstore\n",
      "4  138.6655        30        own\n"
     ]
    }
   ],
   "source": [
    "df_multi_subject = pd.DataFrame() # a multi-subject dataframe of [subject_number,onsets,brain_voxels]\n",
    "for i,s in enumerate(SUBJECTS):\n",
    "    if s == 'S11':\n",
    "        RUNS = range(4,6)\n",
    "    else:\n",
    "        RUNS = range(4,7)\n",
    "    print s,\n",
    "    if not isfile(join(PATH,'data/Z_files',s + '_Z_GM.npy')): # Z file from Group Mask\n",
    "        apply_niftiMasker_GM(s,RUNS,masker)\n",
    "    single_subject_Z = load_scanning_session_matrix(s,GM = True)\n",
    "    single_subject_onsets = get_onsets(s,RUNS)\n",
    "            \n",
    "    if RUNS == [4,5,6] or RUNS == [4,5]:\n",
    "        single_subject_Z = single_subject_Z[48:,:]\n",
    "        if single_subject_Z.shape[0] == 47:\n",
    "            single_subject_onsets = single_subject_onsets[:-1] # dorp last row (subject S04)\n",
    "    \n",
    "    df_single_subject = pd.concat([pd.Series([s] * single_subject_onsets.shape[0]),single_subject_onsets['category'],pd.DataFrame(single_subject_Z)],axis = 1)\n",
    "    df_multi_subject = pd.concat([df_multi_subject,df_single_subject],axis = 0)"
   ]
  },
  {
   "cell_type": "code",
   "execution_count": 11,
   "metadata": {},
   "outputs": [
    {
     "data": {
      "text/plain": [
       "(48, 1645399)"
      ]
     },
     "execution_count": 11,
     "metadata": {},
     "output_type": "execute_result"
    }
   ],
   "source": [
    "single_subject_Z.shape"
   ]
  },
  {
   "cell_type": "code",
   "execution_count": 12,
   "metadata": {},
   "outputs": [
    {
     "data": {
      "text/plain": [
       "(559, 1645401)"
      ]
     },
     "execution_count": 12,
     "metadata": {},
     "output_type": "execute_result"
    }
   ],
   "source": [
    "df_multi_subject.shape"
   ]
  },
  {
   "cell_type": "code",
   "execution_count": 13,
   "metadata": {
    "collapsed": true
   },
   "outputs": [],
   "source": [
    "df_multi_subject.columns = ['subject'] +df_multi_subject.columns[1:].tolist()"
   ]
  },
  {
   "cell_type": "code",
   "execution_count": 14,
   "metadata": {
    "collapsed": true
   },
   "outputs": [
    {
     "name": "stdout",
     "output_type": "stream",
     "text": [
      "(511, 1645399)\n",
      "(511,)\n",
      "0.479166666667\n",
      "(511, 1645399)\n",
      "(511,)\n",
      "0.375\n",
      "(511, 1645399)\n",
      "(511,)\n",
      "0.4375\n",
      "(512, 1645399)\n",
      "(512,)\n",
      "0.191489361702\n",
      "(511, 1645399)\n",
      "(511,)\n",
      "0.5625\n",
      "(511, 1645399)\n",
      "(511,)\n",
      "0.458333333333\n",
      "(511, 1645399)\n",
      "(511,)\n",
      "0.375\n",
      "(511, 1645399)\n",
      "(511,)\n",
      "0.395833333333\n",
      "(511, 1645399)\n",
      "(511,)\n",
      "0.479166666667\n",
      "(511, 1645399)\n",
      "(511,)\n",
      "0.479166666667\n",
      "(527, 1645399)\n",
      "(527,)\n",
      "0.4375\n",
      "(511, 1645399)\n",
      "(511,)\n",
      "0.541666666667\n"
     ]
    },
    {
     "data": {
      "text/html": [
       "<div>\n",
       "<style>\n",
       "    .dataframe thead tr:only-child th {\n",
       "        text-align: right;\n",
       "    }\n",
       "\n",
       "    .dataframe thead th {\n",
       "        text-align: left;\n",
       "    }\n",
       "\n",
       "    .dataframe tbody tr th {\n",
       "        vertical-align: top;\n",
       "    }\n",
       "</style>\n",
       "<table border=\"1\" class=\"dataframe\">\n",
       "  <thead>\n",
       "    <tr style=\"text-align: right;\">\n",
       "      <th></th>\n",
       "      <th>Subject</th>\n",
       "      <th>classification_accuracy</th>\n",
       "      <th>classification_accuracy_reshuffled</th>\n",
       "    </tr>\n",
       "  </thead>\n",
       "  <tbody>\n",
       "    <tr>\n",
       "      <th>0</th>\n",
       "      <td>S01</td>\n",
       "      <td>0.479167</td>\n",
       "      <td>0.291667</td>\n",
       "    </tr>\n",
       "    <tr>\n",
       "      <th>1</th>\n",
       "      <td>S02</td>\n",
       "      <td>0.375000</td>\n",
       "      <td>0.312500</td>\n",
       "    </tr>\n",
       "    <tr>\n",
       "      <th>2</th>\n",
       "      <td>S03</td>\n",
       "      <td>0.437500</td>\n",
       "      <td>0.250000</td>\n",
       "    </tr>\n",
       "    <tr>\n",
       "      <th>3</th>\n",
       "      <td>S04</td>\n",
       "      <td>0.191489</td>\n",
       "      <td>0.404255</td>\n",
       "    </tr>\n",
       "    <tr>\n",
       "      <th>4</th>\n",
       "      <td>S05</td>\n",
       "      <td>0.562500</td>\n",
       "      <td>0.375000</td>\n",
       "    </tr>\n",
       "    <tr>\n",
       "      <th>5</th>\n",
       "      <td>S06</td>\n",
       "      <td>0.458333</td>\n",
       "      <td>0.354167</td>\n",
       "    </tr>\n",
       "    <tr>\n",
       "      <th>6</th>\n",
       "      <td>S07</td>\n",
       "      <td>0.375000</td>\n",
       "      <td>0.291667</td>\n",
       "    </tr>\n",
       "    <tr>\n",
       "      <th>7</th>\n",
       "      <td>S08</td>\n",
       "      <td>0.395833</td>\n",
       "      <td>0.250000</td>\n",
       "    </tr>\n",
       "    <tr>\n",
       "      <th>8</th>\n",
       "      <td>S09</td>\n",
       "      <td>0.479167</td>\n",
       "      <td>0.187500</td>\n",
       "    </tr>\n",
       "    <tr>\n",
       "      <th>9</th>\n",
       "      <td>S10</td>\n",
       "      <td>0.479167</td>\n",
       "      <td>0.270833</td>\n",
       "    </tr>\n",
       "    <tr>\n",
       "      <th>10</th>\n",
       "      <td>S11</td>\n",
       "      <td>0.437500</td>\n",
       "      <td>0.218750</td>\n",
       "    </tr>\n",
       "    <tr>\n",
       "      <th>11</th>\n",
       "      <td>S12</td>\n",
       "      <td>0.541667</td>\n",
       "      <td>0.375000</td>\n",
       "    </tr>\n",
       "  </tbody>\n",
       "</table>\n",
       "</div>"
      ],
      "text/plain": [
       "   Subject  classification_accuracy  classification_accuracy_reshuffled\n",
       "0      S01                 0.479167                            0.291667\n",
       "1      S02                 0.375000                            0.312500\n",
       "2      S03                 0.437500                            0.250000\n",
       "3      S04                 0.191489                            0.404255\n",
       "4      S05                 0.562500                            0.375000\n",
       "5      S06                 0.458333                            0.354167\n",
       "6      S07                 0.375000                            0.291667\n",
       "7      S08                 0.395833                            0.250000\n",
       "8      S09                 0.479167                            0.187500\n",
       "9      S10                 0.479167                            0.270833\n",
       "10     S11                 0.437500                            0.218750\n",
       "11     S12                 0.541667                            0.375000"
      ]
     },
     "execution_count": 14,
     "metadata": {},
     "output_type": "execute_result"
    }
   ],
   "source": [
    "np.random.seed(11)\n",
    "\n",
    "from sklearn.model_selection import LeaveOneGroupOut\n",
    "from sklearn.externals import joblib\n",
    "from sklearn.utils import shuffle\n",
    "\n",
    "classification_results = pd.DataFrame(columns=['Subject','classification_accuracy','classification_accuracy_reshuffled'])\n",
    "X = df_multi_subject\n",
    "y = df_multi_subject['category']\n",
    "logo = LeaveOneGroupOut()\n",
    "for i, (train_index, test_index) in enumerate(logo.split(X,y,df_multi_subject['subject'])):\n",
    "    #print train_index, test_index\n",
    "    X_train = df_multi_subject.iloc[train_index,2:]\n",
    "    y_train = df_multi_subject.iloc[train_index,1]\n",
    "    y_train_reshuffled = shuffle(df_multi_subject.iloc[train_index,1])\n",
    "    print X_train.shape\n",
    "    print y_train.shape\n",
    "    X_test = df_multi_subject.iloc[test_index,2:]\n",
    "    y_test = df_multi_subject.iloc[test_index,1]\n",
    "    \n",
    "    anova_svc.fit(X_train,y_train)\n",
    "    predictions = anova_svc.predict(X_test)\n",
    "    classification_accuracy = accuracy_score(y_test,predictions)\n",
    "    \n",
    "    anova_svc_reshuffle = Pipeline([('anova', feature_selection), ('svc', svc)])\n",
    "    anova_svc_reshuffle.fit(X_train,y_train_reshuffled)\n",
    "    predictions_reshuffled = anova_svc_reshuffle.predict(X_test)\n",
    "    classification_accuracy_reshuffled = accuracy_score(y_test,predictions_reshuffled)\n",
    "    \n",
    "    print classification_accuracy\n",
    "    classification_results.loc[i] = [SUBJECTS[i],classification_accuracy,classification_accuracy_reshuffled]\n",
    "    #joblib.dump(anova_svc,'models/' +classification_results['Subject'][i] +'_featSelec.pkl')\n",
    "classification_results"
   ]
  },
  {
   "cell_type": "code",
   "execution_count": 15,
   "metadata": {},
   "outputs": [
    {
     "data": {
      "text/html": [
       "<div>\n",
       "<style>\n",
       "    .dataframe thead tr:only-child th {\n",
       "        text-align: right;\n",
       "    }\n",
       "\n",
       "    .dataframe thead th {\n",
       "        text-align: left;\n",
       "    }\n",
       "\n",
       "    .dataframe tbody tr th {\n",
       "        vertical-align: top;\n",
       "    }\n",
       "</style>\n",
       "<table border=\"1\" class=\"dataframe\">\n",
       "  <thead>\n",
       "    <tr style=\"text-align: right;\">\n",
       "      <th></th>\n",
       "      <th>Subject</th>\n",
       "      <th>classification_accuracy</th>\n",
       "      <th>classification_accuracy_reshuffled</th>\n",
       "    </tr>\n",
       "  </thead>\n",
       "  <tbody>\n",
       "    <tr>\n",
       "      <th>0</th>\n",
       "      <td>S01</td>\n",
       "      <td>0.479167</td>\n",
       "      <td>0.291667</td>\n",
       "    </tr>\n",
       "    <tr>\n",
       "      <th>1</th>\n",
       "      <td>S02</td>\n",
       "      <td>0.375000</td>\n",
       "      <td>0.312500</td>\n",
       "    </tr>\n",
       "    <tr>\n",
       "      <th>2</th>\n",
       "      <td>S03</td>\n",
       "      <td>0.437500</td>\n",
       "      <td>0.250000</td>\n",
       "    </tr>\n",
       "    <tr>\n",
       "      <th>3</th>\n",
       "      <td>S04</td>\n",
       "      <td>0.191489</td>\n",
       "      <td>0.404255</td>\n",
       "    </tr>\n",
       "    <tr>\n",
       "      <th>4</th>\n",
       "      <td>S05</td>\n",
       "      <td>0.562500</td>\n",
       "      <td>0.375000</td>\n",
       "    </tr>\n",
       "    <tr>\n",
       "      <th>5</th>\n",
       "      <td>S06</td>\n",
       "      <td>0.458333</td>\n",
       "      <td>0.354167</td>\n",
       "    </tr>\n",
       "    <tr>\n",
       "      <th>6</th>\n",
       "      <td>S07</td>\n",
       "      <td>0.375000</td>\n",
       "      <td>0.291667</td>\n",
       "    </tr>\n",
       "    <tr>\n",
       "      <th>7</th>\n",
       "      <td>S08</td>\n",
       "      <td>0.395833</td>\n",
       "      <td>0.250000</td>\n",
       "    </tr>\n",
       "    <tr>\n",
       "      <th>8</th>\n",
       "      <td>S09</td>\n",
       "      <td>0.479167</td>\n",
       "      <td>0.187500</td>\n",
       "    </tr>\n",
       "    <tr>\n",
       "      <th>9</th>\n",
       "      <td>S10</td>\n",
       "      <td>0.479167</td>\n",
       "      <td>0.270833</td>\n",
       "    </tr>\n",
       "    <tr>\n",
       "      <th>10</th>\n",
       "      <td>S11</td>\n",
       "      <td>0.437500</td>\n",
       "      <td>0.218750</td>\n",
       "    </tr>\n",
       "    <tr>\n",
       "      <th>11</th>\n",
       "      <td>S12</td>\n",
       "      <td>0.541667</td>\n",
       "      <td>0.375000</td>\n",
       "    </tr>\n",
       "  </tbody>\n",
       "</table>\n",
       "</div>"
      ],
      "text/plain": [
       "   Subject  classification_accuracy  classification_accuracy_reshuffled\n",
       "0      S01                 0.479167                            0.291667\n",
       "1      S02                 0.375000                            0.312500\n",
       "2      S03                 0.437500                            0.250000\n",
       "3      S04                 0.191489                            0.404255\n",
       "4      S05                 0.562500                            0.375000\n",
       "5      S06                 0.458333                            0.354167\n",
       "6      S07                 0.375000                            0.291667\n",
       "7      S08                 0.395833                            0.250000\n",
       "8      S09                 0.479167                            0.187500\n",
       "9      S10                 0.479167                            0.270833\n",
       "10     S11                 0.437500                            0.218750\n",
       "11     S12                 0.541667                            0.375000"
      ]
     },
     "execution_count": 15,
     "metadata": {},
     "output_type": "execute_result"
    }
   ],
   "source": [
    "classification_results"
   ]
  },
  {
   "cell_type": "code",
   "execution_count": 16,
   "metadata": {},
   "outputs": [
    {
     "name": "stdout",
     "output_type": "stream",
     "text": [
      "Ttest_relResult(statistic=3.7207926853753683, pvalue=0.0033771177175134083)\n"
     ]
    },
    {
     "data": {
      "image/png": "[encoded data removed]",
      "text/plain": [
       "<matplotlib.figure.Figure at 0x7f861e972950>"
      ]
     },
     "metadata": {},
     "output_type": "display_data"
    }
   ],
   "source": [
    "from helper_functions import plot_classification_accuracies\n",
    "plot_classification_accuracies(classification_results)"
   ]
  },
  {
   "cell_type": "code",
   "execution_count": null,
   "metadata": {
    "collapsed": true
   },
   "outputs": [],
   "source": []
  }
 ],
 "metadata": {
  "anaconda-cloud": {},
  "kernelspec": {
   "display_name": "Python [default]",
   "language": "python",
   "name": "python2"
  },
  "language_info": {
   "codemirror_mode": {
    "name": "ipython",
    "version": 2
   },
   "file_extension": ".py",
   "mimetype": "text/x-python",
   "name": "python",
   "nbconvert_exporter": "python",
   "pygments_lexer": "ipython2",
   "version": "2.7.12"
  }
 },
 "nbformat": 4,
 "nbformat_minor": 2
}
